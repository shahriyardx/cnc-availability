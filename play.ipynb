{
 "cells": [
  {
   "cell_type": "code",
   "execution_count": 30,
   "metadata": {},
   "outputs": [],
   "source": [
    "from datetime import datetime, timedelta\n",
    "\n",
    "def nearest_possible_time(day, hour=0, minute=0, second=0):\n",
    "    # Convert day name to integer representation\n",
    "    day_dict = {'monday': 0, 'tuesday': 1, 'wednesday': 2, 'thursday': 3, 'friday': 4, 'saturday': 5, 'sunday': 6}\n",
    "    day_num = day_dict.get(day.lower())\n",
    "\n",
    "    # Get current date and time\n",
    "    now = datetime.utcnow()\n",
    "\n",
    "    # Calculate the datetime for the specified day and time\n",
    "    target_time = now.replace(hour=hour, minute=minute, second=second, microsecond=0)\n",
    "    target_day = (day_num - now.weekday()) % 7\n",
    "    target_datetime = target_time + timedelta(days=target_day)\n",
    "\n",
    "    # Check if the target datetime has already passed\n",
    "    if target_datetime < now:\n",
    "        target_datetime += timedelta(weeks=1)\n",
    "\n",
    "    return target_datetime"
   ]
  },
  {
   "cell_type": "code",
   "execution_count": 1,
   "metadata": {},
   "outputs": [
    {
     "ename": "NameError",
     "evalue": "name 'datetime' is not defined",
     "output_type": "error",
     "traceback": [
      "\u001b[0;31m---------------------------------------------------------------------------\u001b[0m",
      "\u001b[0;31mNameError\u001b[0m                                 Traceback (most recent call last)",
      "Cell \u001b[0;32mIn[1], line 1\u001b[0m\n\u001b[0;32m----> 1\u001b[0m now \u001b[39m=\u001b[39m datetime\u001b[39m.\u001b[39mutcnow()\n\u001b[1;32m      2\u001b[0m \u001b[39mnext\u001b[39m \u001b[39m=\u001b[39m nearest_possible_time(\u001b[39m\"\u001b[39m\u001b[39mfriday\u001b[39m\u001b[39m\"\u001b[39m, hour\u001b[39m=\u001b[39m\u001b[39m1\u001b[39m, minute\u001b[39m=\u001b[39m\u001b[39m30\u001b[39m)\n\u001b[1;32m      3\u001b[0m \u001b[39mprint\u001b[39m(\u001b[39mnext\u001b[39m \u001b[39m-\u001b[39m now)\n",
      "\u001b[0;31mNameError\u001b[0m: name 'datetime' is not defined"
     ]
    }
   ],
   "source": [
    "now = datetime.utcnow()\n",
    "next = nearest_possible_time(\"friday\", hour=1, minute=30)\n",
    "print(next - now)"
   ]
  },
  {
   "cell_type": "code",
   "execution_count": null,
   "metadata": {},
   "outputs": [],
   "source": [
    "all_ranks = [\n",
    "    \"me\", \n",
    "    \"ks\", \n",
    "    \"oks\", \n",
    "    \"oks-1\", \n",
    "    \"fs\", \n",
    "    \"ms\", \n",
    "    \"kp\", \n",
    "    \"sg\", \n",
    "    \"os\", \n",
    "    \"ssg\", \n",
    "    \"csg\", \n",
    "    \"sl\", \n",
    "    \"lt\", \n",
    "    \"pl\", \n",
    "    \"kn\", \n",
    "    \"kl\", \n",
    "    \"mj\", \n",
    "    \"ok\", \n",
    "    \"ol\", \n",
    "    \"kk\", \n",
    "    \"ob\", \n",
    "    \"kd\", \n",
    "    \"fa\", \n",
    "    \"bg\", \n",
    "    \"ka\", \n",
    "    \"gm\", \n",
    "    \"va\", \n",
    "    \"gl\", \n",
    "    \"am\", \n",
    "    \"gn\",\n",
    "]"
   ]
  }
 ],
 "metadata": {
  "kernelspec": {
   "display_name": "venv",
   "language": "python",
   "name": "python3"
  },
  "language_info": {
   "codemirror_mode": {
    "name": "ipython",
    "version": 3
   },
   "file_extension": ".py",
   "mimetype": "text/x-python",
   "name": "python",
   "nbconvert_exporter": "python",
   "pygments_lexer": "ipython3",
   "version": "3.10.6"
  },
  "orig_nbformat": 4
 },
 "nbformat": 4,
 "nbformat_minor": 2
}
