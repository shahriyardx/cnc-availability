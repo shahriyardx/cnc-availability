{
 "cells": [
  {
   "cell_type": "code",
   "execution_count": 2,
   "metadata": {
    "ExecuteTime": {
     "end_time": "2023-05-15T06:29:35.661199919Z",
     "start_time": "2023-05-15T06:29:33.925432199Z"
    }
   },
   "outputs": [],
   "source": [
    "from utils.gspread import DataSheet\n",
    "\n",
    "sheet = DataSheet(\"OFFICIAL NHL ROSTER SHEET\")"
   ]
  },
  {
   "cell_type": "code",
   "execution_count": 3,
   "outputs": [],
   "source": [
    "from dataclasses import dataclass\n",
    "\n",
    "\n",
    "@dataclass\n",
    "class IR:\n",
    "    team: str\n",
    "    player: str\n",
    "    week: str\n",
    "    week_2: str\n",
    "    ticket: str\n",
    "    reason: str\n",
    "    status: str\n",
    "\n",
    "    @staticmethod\n",
    "    def create(data):\n",
    "        return IR(*data)"
   ],
   "metadata": {
    "collapsed": false,
    "ExecuteTime": {
     "end_time": "2023-05-15T06:29:53.015987819Z",
     "start_time": "2023-05-15T06:29:53.012593487Z"
    }
   }
  },
  {
   "cell_type": "code",
   "execution_count": 7,
   "outputs": [
    {
     "data": {
      "text/plain": "[IR(team='Chicago Blackhawks', player='GreatScottie', week='Week 1', week_2='Full Week', ticket='0393', reason='sick', status='Approved'),\n IR(team='Florida Panthers', player='GreatScottie', week='Week 1', week_2='Full Week', ticket='0543', reason='availability bot', status='Approved'),\n IR(team='Florida Panthers', player='GreatScottie', week='Week 2', week_2='Full Week', ticket='0543', reason='test', status='Denied'),\n IR(team='Florida Panthers', player='GreatScottie', week='Week 3', week_2='Full Week', ticket='0543', reason='test', status='Denied')]"
     },
     "execution_count": 7,
     "metadata": {},
     "output_type": "execute_result"
    }
   ],
   "source": [
    "all_values = [IR.create(data) for data in sheet.get_values(\"IR\")]\n",
    "items = filter(lambda x: x.player == \"GreatScottie\", all_values)\n",
    "list(items)"
   ],
   "metadata": {
    "collapsed": false,
    "ExecuteTime": {
     "end_time": "2023-05-15T06:31:04.349358380Z",
     "start_time": "2023-05-15T06:31:03.153877700Z"
    }
   }
  }
 ],
 "metadata": {
  "kernelspec": {
   "display_name": "venv",
   "language": "python",
   "name": "python3"
  },
  "language_info": {
   "codemirror_mode": {
    "name": "ipython",
    "version": 3
   },
   "file_extension": ".py",
   "mimetype": "text/x-python",
   "name": "python",
   "nbconvert_exporter": "python",
   "pygments_lexer": "ipython3",
   "version": "3.10.6"
  },
  "orig_nbformat": 4
 },
 "nbformat": 4,
 "nbformat_minor": 2
}
