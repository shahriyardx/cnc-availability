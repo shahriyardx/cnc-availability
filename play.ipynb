{
 "cells": [
  {
   "cell_type": "code",
   "execution_count": 1,
   "outputs": [],
   "source": [
    "from datetime import datetime, timedelta\n",
    "\n",
    "def get_next_date(day: str, hour=0, minute=0, second=0):\n",
    "    # Convert day name to integer representation\n",
    "    day_dict = {\n",
    "        \"monday\": 0,\n",
    "        \"tuesday\": 1,\n",
    "        \"wednesday\": 2,\n",
    "        \"thursday\": 3,\n",
    "        \"friday\": 4,\n",
    "        \"saturday\": 5,\n",
    "        \"sunday\": 6,\n",
    "    }\n",
    "    day_num = day_dict.get(day.lower())\n",
    "\n",
    "    # Get current date and time\n",
    "    now = datetime.utcnow()\n",
    "\n",
    "    # Calculate the datetime for the specified day and time\n",
    "    target_time = now.replace(hour=hour, minute=minute, second=second, microsecond=0)\n",
    "    target_day = (day_num - now.weekday()) % 7\n",
    "    target_datetime = target_time + timedelta(days=target_day)\n",
    "\n",
    "    # Check if the target datetime has already passed\n",
    "    if target_datetime < now:\n",
    "        target_datetime += timedelta(weeks=1)\n",
    "\n",
    "    return target_datetime"
   ],
   "metadata": {
    "collapsed": false,
    "ExecuteTime": {
     "end_time": "2023-08-11T20:24:43.049881900Z",
     "start_time": "2023-08-11T20:24:43.041525800Z"
    }
   }
  },
  {
   "cell_type": "code",
   "execution_count": 8,
   "outputs": [
    {
     "name": "stdout",
     "output_type": "stream",
     "text": [
      "Friday 20:26\n"
     ]
    }
   ],
   "source": [
    "current = datetime.utcnow()\n",
    "print(current.strftime(\"%A %H:%M\"))\n",
    "\n",
    "nxt = get_next_date(\"Friday\", 16)"
   ],
   "metadata": {
    "collapsed": false,
    "ExecuteTime": {
     "end_time": "2023-08-11T20:26:15.489706200Z",
     "start_time": "2023-08-11T20:26:15.485706800Z"
    }
   }
  }
 ],
 "metadata": {
  "kernelspec": {
   "display_name": "venv",
   "language": "python",
   "name": "python3"
  },
  "language_info": {
   "codemirror_mode": {
    "name": "ipython",
    "version": 3
   },
   "file_extension": ".py",
   "mimetype": "text/x-python",
   "name": "python",
   "nbconvert_exporter": "python",
   "pygments_lexer": "ipython3",
   "version": "3.10.6"
  },
  "orig_nbformat": 4
 },
 "nbformat": 4,
 "nbformat_minor": 2
}
