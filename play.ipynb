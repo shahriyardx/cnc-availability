{
 "cells": [
  {
   "cell_type": "code",
   "execution_count": 2,
   "metadata": {
    "ExecuteTime": {
     "end_time": "2023-06-12T07:01:45.267752271Z",
     "start_time": "2023-06-12T07:01:45.176608606Z"
    }
   },
   "outputs": [],
   "source": [
    "from bs4 import BeautifulSoup\n",
    "import requests"
   ]
  },
  {
   "cell_type": "code",
   "execution_count": 3,
   "outputs": [],
   "source": [
    "data = requests.get(\"https://www.mystatsonline.com/hockey/visitor/league/stats/team_hockey.aspx?IDLeague=63342&IDSeason=89936&IDTeam=147894\")\n",
    "soup = BeautifulSoup(data.content, 'html.parser')"
   ],
   "metadata": {
    "collapsed": false,
    "ExecuteTime": {
     "end_time": "2023-06-12T07:01:50.398168488Z",
     "start_time": "2023-06-12T07:01:47.202978618Z"
    }
   }
  },
  {
   "cell_type": "code",
   "execution_count": 4,
   "outputs": [],
   "source": [
    "def getPlayersData(divId: str):\n",
    "    trs = soup.find(\"div\", {\"id\": divId}).find(\"table\").find(\"tbody\").find_all(\"tr\")\n",
    "    players_data = []\n",
    "\n",
    "    for tr in trs:\n",
    "        datas = tr.find_all(\"td\")\n",
    "        players_data.append({\n",
    "            \"psn\": datas[1].text.split(\",\")[0].strip(),\n",
    "            \"gp\": datas[2].text\n",
    "        })\n",
    "\n",
    "    return players_data"
   ],
   "metadata": {
    "collapsed": false,
    "ExecuteTime": {
     "end_time": "2023-06-12T07:01:50.960194980Z",
     "start_time": "2023-06-12T07:01:50.953637083Z"
    }
   }
  },
  {
   "cell_type": "code",
   "execution_count": 5,
   "outputs": [
    {
     "data": {
      "text/plain": "{'Kimberlyhart707': 2,\n 'Whiter_66': 13,\n 'Blackman_mafia19': 4,\n 'Sweht_-': 16,\n 'iPovrty': 27,\n 'Dmacjr2': 15,\n 'jthersch16': 27,\n 'Downsouth_Outlaw': 23,\n 'xGMAN99': 26,\n 'MazelTovMalkin': 9,\n 'The_Ontario_OUTL': 20,\n 'Diamond_supply90': 5,\n 'DCRestrictive': 18,\n 'Playmaker_x_7': 11,\n 'egomaniacstud1': 4,\n 'yung96': 31}"
     },
     "execution_count": 5,
     "metadata": {},
     "output_type": "execute_result"
    }
   ],
   "source": [
    "players = getPlayersData(\"maincontent_gvSkaters_pnlPlayers\")\n",
    "goalies = getPlayersData(\"maincontent_gvGoalies_pnlPlayers\")\n",
    "total = players + goalies\n",
    "\n",
    "all_players = {}\n",
    "for player in total:\n",
    "    if player[\"psn\"] in all_players:\n",
    "        curr = all_players[player[\"psn\"]] + int(player[\"gp\"])\n",
    "        all_players[player[\"psn\"]] = curr\n",
    "    else:\n",
    "        all_players[player[\"psn\"]] = int(player[\"gp\"])\n",
    "\n",
    "all_players"
   ],
   "metadata": {
    "collapsed": false,
    "ExecuteTime": {
     "end_time": "2023-06-12T07:01:52.928682851Z",
     "start_time": "2023-06-12T07:01:52.923658167Z"
    }
   }
  }
 ],
 "metadata": {
  "kernelspec": {
   "display_name": "venv",
   "language": "python",
   "name": "python3"
  },
  "language_info": {
   "codemirror_mode": {
    "name": "ipython",
    "version": 3
   },
   "file_extension": ".py",
   "mimetype": "text/x-python",
   "name": "python",
   "nbconvert_exporter": "python",
   "pygments_lexer": "ipython3",
   "version": "3.10.6"
  },
  "orig_nbformat": 4
 },
 "nbformat": 4,
 "nbformat_minor": 2
}
