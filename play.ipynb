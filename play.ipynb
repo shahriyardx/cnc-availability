{
 "cells": [
  {
   "cell_type": "code",
   "execution_count": 48,
   "outputs": [
    {
     "name": "stdout",
     "output_type": "stream",
     "text": [
      "LW, RW\n"
     ]
    }
   ],
   "source": [
    "from dataclasses import dataclass\n",
    "\n",
    "@dataclass\n",
    "class Player:\n",
    "    position: str\n",
    "    player_id: int\n",
    "    \n",
    "    def __eq__(self, other):\n",
    "        return self.player_id == other.player_id\n",
    "    \n",
    "    def __hash__(self):\n",
    "        return hash(self.player_id)\n",
    "\n",
    "def find_keys_with_same_value(data: dict):\n",
    "    values = []\n",
    "    duplicate_values = []\n",
    "    \n",
    "    all_items = [Player(pos, pid) for pos, pid in data.items()]\n",
    "    \n",
    "    for item in all_items:\n",
    "        if item.player_id == 1:\n",
    "            continue\n",
    "        \n",
    "        if item in values:\n",
    "            duplicate_values.append(item)\n",
    "            duplicate_item = values[values.index(item)]\n",
    "            duplicate_values.append(duplicate_item)\n",
    "        \n",
    "        values.append(item)\n",
    "    \n",
    "    return \", \".join(set([val.position for val in duplicate_values]))\n",
    "\n",
    "# Example usage\n",
    "my_dict = {\"LW\": 345345, \"RW\": 345345, \"LD\": 34534, \"RD\": 1, \"C\": 455, \"G\": 90}\n",
    "\n",
    "keys_with_same_value = find_keys_with_same_value(my_dict)\n",
    "print(keys_with_same_value)"
   ],
   "metadata": {
    "collapsed": false,
    "ExecuteTime": {
     "end_time": "2023-08-26T17:32:51.496806Z",
     "start_time": "2023-08-26T17:32:51.492732Z"
    }
   }
  },
  {
   "cell_type": "code",
   "execution_count": null,
   "outputs": [],
   "source": [],
   "metadata": {
    "collapsed": false
   }
  }
 ],
 "metadata": {
  "kernelspec": {
   "display_name": "venv",
   "language": "python",
   "name": "python3"
  },
  "language_info": {
   "codemirror_mode": {
    "name": "ipython",
    "version": 3
   },
   "file_extension": ".py",
   "mimetype": "text/x-python",
   "name": "python",
   "nbconvert_exporter": "python",
   "pygments_lexer": "ipython3",
   "version": "3.10.6"
  },
  "orig_nbformat": 4
 },
 "nbformat": 4,
 "nbformat_minor": 2
}
