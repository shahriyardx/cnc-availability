{
 "cells": [
  {
   "cell_type": "code",
   "execution_count": 30,
   "metadata": {},
   "outputs": [],
   "source": [
    "from datetime import datetime, timedelta\n",
    "\n",
    "def nearest_possible_time(day, hour=0, minute=0, second=0):\n",
    "    # Convert day name to integer representation\n",
    "    day_dict = {'monday': 0, 'tuesday': 1, 'wednesday': 2, 'thursday': 3, 'friday': 4, 'saturday': 5, 'sunday': 6}\n",
    "    day_num = day_dict.get(day.lower())\n",
    "\n",
    "    # Get current date and time\n",
    "    now = datetime.utcnow()\n",
    "\n",
    "    # Calculate the datetime for the specified day and time\n",
    "    target_time = now.replace(hour=hour, minute=minute, second=second, microsecond=0)\n",
    "    target_day = (day_num - now.weekday()) % 7\n",
    "    target_datetime = target_time + timedelta(days=target_day)\n",
    "\n",
    "    # Check if the target datetime has already passed\n",
    "    if target_datetime < now:\n",
    "        target_datetime += timedelta(weeks=1)\n",
    "\n",
    "    return target_datetime"
   ]
  },
  {
   "cell_type": "code",
   "execution_count": 34,
   "metadata": {},
   "outputs": [
    {
     "name": "stdout",
     "output_type": "stream",
     "text": [
      "6 days, 5:06:36.983591\n"
     ]
    }
   ],
   "source": [
    "now = datetime.utcnow()\n",
    "next = nearest_possible_time(\"friday\", hour=1, minute=30)\n",
    "print(next - now)"
   ]
  }
 ],
 "metadata": {
  "kernelspec": {
   "display_name": "venv",
   "language": "python",
   "name": "python3"
  },
  "language_info": {
   "codemirror_mode": {
    "name": "ipython",
    "version": 3
   },
   "file_extension": ".py",
   "mimetype": "text/x-python",
   "name": "python",
   "nbconvert_exporter": "python",
   "pygments_lexer": "ipython3",
   "version": "3.10.6"
  },
  "orig_nbformat": 4
 },
 "nbformat": 4,
 "nbformat_minor": 2
}
